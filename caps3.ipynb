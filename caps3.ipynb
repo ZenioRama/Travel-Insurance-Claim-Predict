{
 "cells": [
  {
   "attachments": {},
   "cell_type": "markdown",
   "metadata": {},
   "source": [
    "# JCDS-1904 Zenio Rama\n",
    "## Capstone 3 Travel Insurance Data \n",
    "\n",
    "\n",
    " # Context\n",
    "Travel insurance is a type of insurance that provides protection as long as we travel both domestically and abroad. Several countries have even required travelers to have travel insurance, for example, countries in Europe and America. The amount of premium depends on the coverage desired, the length of the trip, and the purpose of the trip. A company engaged in travel insurance wants to know the policyholder who will submit an insurance claim for coverage. Policyholder data at insurance companies is historical data consisting of destinations, insurance products, and so on.\n",
    "\n",
    " # Features\n",
    "1. Agency: Name of agency.\n",
    "2. Agency Type: Type of travel insurance agencies.\n",
    "3. Distribution Channel: Channel of travel insurance agencies.\n",
    "4. Product Name: Name of the travel insurance products.\n",
    "5. Gender: Gender of insured.\n",
    "6. Duration: Duration of travel.\n",
    "7. Destination: Destination of travel.\n",
    "8. Net Sales: Amount of sales of travel insurance policies.\n",
    "9. Commission (in value): Commission received for travel insurance agency.\n",
    "10. Age: Age of insured.\n",
    "11.  Claim: Claim status."
   ]
  },
  {
   "cell_type": "code",
   "execution_count": 1,
   "metadata": {},
   "outputs": [],
   "source": [
    "# Library\n",
    "\n",
    "import pandas as pd\n",
    "import numpy as np\n",
    "\n",
    "# Visualization\n",
    "import matplotlib.pyplot as plt\n",
    "import seaborn as sns\n",
    "import missingno\n",
    "from IPython.display import display\n",
    "\n",
    "# Feature Engineering\n",
    "from sklearn.pipeline import Pipeline\n",
    "from sklearn.impute import SimpleImputer\n",
    "from sklearn.preprocessing import OneHotEncoder, LabelEncoder, OrdinalEncoder\n",
    "from sklearn.compose import ColumnTransformer\n",
    "import category_encoders as ce\n",
    "\n",
    "# Model Selection\n",
    "from sklearn.linear_model import LogisticRegression\n",
    "from sklearn.tree import DecisionTreeClassifier\n",
    "from sklearn.model_selection import GridSearchCV, StratifiedKFold, train_test_split, cross_val_score,RandomizedSearchCV,KFold\n",
    "from sklearn.metrics import classification_report, confusion_matrix\n",
    "from sklearn.neighbors import KNeighborsClassifier\n",
    "from sklearn.ensemble import RandomForestClassifier\n",
    "from xgboost import XGBClassifier\n",
    "from sklearn.metrics import f1_score, accuracy_score, recall_score, precision_score\n",
    "from sklearn.metrics import roc_curve, roc_auc_score, plot_roc_curve\n",
    "\n",
    "# Imbalance Dataset\n",
    "from imblearn.pipeline import Pipeline\n",
    "from imblearn.over_sampling import RandomOverSampler\n",
    "\n",
    "# Ignore Warning\n",
    "import sys\n",
    "import warnings\n",
    "if not sys.warnoptions:\n",
    "    warnings.simplefilter(\"ignore\")\n",
    "\n",
    "# Set max columns\n",
    "pd.set_option('display.max_columns', None)\n"
   ]
  },
  {
   "cell_type": "code",
   "execution_count": 2,
   "metadata": {},
   "outputs": [
    {
     "data": {
      "text/html": [
       "<div>\n",
       "<style scoped>\n",
       "    .dataframe tbody tr th:only-of-type {\n",
       "        vertical-align: middle;\n",
       "    }\n",
       "\n",
       "    .dataframe tbody tr th {\n",
       "        vertical-align: top;\n",
       "    }\n",
       "\n",
       "    .dataframe thead th {\n",
       "        text-align: right;\n",
       "    }\n",
       "</style>\n",
       "<table border=\"1\" class=\"dataframe\">\n",
       "  <thead>\n",
       "    <tr style=\"text-align: right;\">\n",
       "      <th></th>\n",
       "      <th>Agency</th>\n",
       "      <th>Agency Type</th>\n",
       "      <th>Distribution Channel</th>\n",
       "      <th>Product Name</th>\n",
       "      <th>Gender</th>\n",
       "      <th>Duration</th>\n",
       "      <th>Destination</th>\n",
       "      <th>Net Sales</th>\n",
       "      <th>Commision (in value)</th>\n",
       "      <th>Age</th>\n",
       "      <th>Claim</th>\n",
       "    </tr>\n",
       "  </thead>\n",
       "  <tbody>\n",
       "    <tr>\n",
       "      <th>0</th>\n",
       "      <td>C2B</td>\n",
       "      <td>Airlines</td>\n",
       "      <td>Online</td>\n",
       "      <td>Annual Silver Plan</td>\n",
       "      <td>F</td>\n",
       "      <td>365</td>\n",
       "      <td>SINGAPORE</td>\n",
       "      <td>216.0</td>\n",
       "      <td>54.0</td>\n",
       "      <td>57</td>\n",
       "      <td>No</td>\n",
       "    </tr>\n",
       "    <tr>\n",
       "      <th>1</th>\n",
       "      <td>EPX</td>\n",
       "      <td>Travel Agency</td>\n",
       "      <td>Online</td>\n",
       "      <td>Cancellation Plan</td>\n",
       "      <td>NaN</td>\n",
       "      <td>4</td>\n",
       "      <td>MALAYSIA</td>\n",
       "      <td>10.0</td>\n",
       "      <td>0.0</td>\n",
       "      <td>33</td>\n",
       "      <td>No</td>\n",
       "    </tr>\n",
       "    <tr>\n",
       "      <th>2</th>\n",
       "      <td>JZI</td>\n",
       "      <td>Airlines</td>\n",
       "      <td>Online</td>\n",
       "      <td>Basic Plan</td>\n",
       "      <td>M</td>\n",
       "      <td>19</td>\n",
       "      <td>INDIA</td>\n",
       "      <td>22.0</td>\n",
       "      <td>7.7</td>\n",
       "      <td>26</td>\n",
       "      <td>No</td>\n",
       "    </tr>\n",
       "    <tr>\n",
       "      <th>3</th>\n",
       "      <td>EPX</td>\n",
       "      <td>Travel Agency</td>\n",
       "      <td>Online</td>\n",
       "      <td>2 way Comprehensive Plan</td>\n",
       "      <td>NaN</td>\n",
       "      <td>20</td>\n",
       "      <td>UNITED STATES</td>\n",
       "      <td>112.0</td>\n",
       "      <td>0.0</td>\n",
       "      <td>59</td>\n",
       "      <td>No</td>\n",
       "    </tr>\n",
       "    <tr>\n",
       "      <th>4</th>\n",
       "      <td>C2B</td>\n",
       "      <td>Airlines</td>\n",
       "      <td>Online</td>\n",
       "      <td>Bronze Plan</td>\n",
       "      <td>M</td>\n",
       "      <td>8</td>\n",
       "      <td>SINGAPORE</td>\n",
       "      <td>16.0</td>\n",
       "      <td>4.0</td>\n",
       "      <td>28</td>\n",
       "      <td>No</td>\n",
       "    </tr>\n",
       "  </tbody>\n",
       "</table>\n",
       "</div>"
      ],
      "text/plain": [
       "  Agency    Agency Type Distribution Channel              Product Name Gender  \\\n",
       "0    C2B       Airlines               Online        Annual Silver Plan      F   \n",
       "1    EPX  Travel Agency               Online         Cancellation Plan    NaN   \n",
       "2    JZI       Airlines               Online                Basic Plan      M   \n",
       "3    EPX  Travel Agency               Online  2 way Comprehensive Plan    NaN   \n",
       "4    C2B       Airlines               Online               Bronze Plan      M   \n",
       "\n",
       "   Duration    Destination  Net Sales  Commision (in value)  Age Claim  \n",
       "0       365      SINGAPORE      216.0                  54.0   57    No  \n",
       "1         4       MALAYSIA       10.0                   0.0   33    No  \n",
       "2        19          INDIA       22.0                   7.7   26    No  \n",
       "3        20  UNITED STATES      112.0                   0.0   59    No  \n",
       "4         8      SINGAPORE       16.0                   4.0   28    No  "
      ]
     },
     "execution_count": 2,
     "metadata": {},
     "output_type": "execute_result"
    }
   ],
   "source": [
    "df=pd.read_csv('data_travel_insurance.csv')\n",
    "df.head()"
   ]
  },
  {
   "cell_type": "code",
   "execution_count": 3,
   "metadata": {},
   "outputs": [
    {
     "name": "stdout",
     "output_type": "stream",
     "text": [
      "<class 'pandas.core.frame.DataFrame'>\n",
      "RangeIndex: 44328 entries, 0 to 44327\n",
      "Data columns (total 11 columns):\n",
      " #   Column                Non-Null Count  Dtype  \n",
      "---  ------                --------------  -----  \n",
      " 0   Agency                44328 non-null  object \n",
      " 1   Agency Type           44328 non-null  object \n",
      " 2   Distribution Channel  44328 non-null  object \n",
      " 3   Product Name          44328 non-null  object \n",
      " 4   Gender                12681 non-null  object \n",
      " 5   Duration              44328 non-null  int64  \n",
      " 6   Destination           44328 non-null  object \n",
      " 7   Net Sales             44328 non-null  float64\n",
      " 8   Commision (in value)  44328 non-null  float64\n",
      " 9   Age                   44328 non-null  int64  \n",
      " 10  Claim                 44328 non-null  object \n",
      "dtypes: float64(2), int64(2), object(7)\n",
      "memory usage: 3.7+ MB\n"
     ]
    }
   ],
   "source": [
    " df.info()"
   ]
  },
  {
   "cell_type": "code",
   "execution_count": 4,
   "metadata": {},
   "outputs": [
    {
     "data": {
      "text/plain": [
       "<AxesSubplot:>"
      ]
     },
     "execution_count": 4,
     "metadata": {},
     "output_type": "execute_result"
    },
    {
     "data": {
      "image/png": "[encoded data removed]",
      "text/plain": [
       "<Figure size 2500x1000 with 2 Axes>"
      ]
     },
     "metadata": {},
     "output_type": "display_data"
    }
   ],
   "source": [
    "missingno.matrix(df)"
   ]
  },
  {
   "cell_type": "code",
   "execution_count": 5,
   "metadata": {},
   "outputs": [
    {
     "data": {
      "text/plain": [
       "31647"
      ]
     },
     "execution_count": 5,
     "metadata": {},
     "output_type": "execute_result"
    }
   ],
   "source": [
    "df['Gender'].isna().sum()"
   ]
  },
  {
   "cell_type": "code",
   "execution_count": 6,
   "metadata": {},
   "outputs": [],
   "source": [
    "df.drop(['Gender'],axis=1, inplace=True)"
   ]
  },
  {
   "cell_type": "code",
   "execution_count": 7,
   "metadata": {},
   "outputs": [
    {
     "name": "stdout",
     "output_type": "stream",
     "text": [
      "<class 'pandas.core.frame.DataFrame'>\n",
      "RangeIndex: 44328 entries, 0 to 44327\n",
      "Data columns (total 4 columns):\n",
      " #   Column                Non-Null Count  Dtype  \n",
      "---  ------                --------------  -----  \n",
      " 0   Duration              44328 non-null  int64  \n",
      " 1   Net Sales             44328 non-null  float64\n",
      " 2   Commision (in value)  44328 non-null  float64\n",
      " 3   Age                   44328 non-null  int64  \n",
      "dtypes: float64(2), int64(2)\n",
      "memory usage: 1.4 MB\n"
     ]
    }
   ],
   "source": [
    "df_numerical = df._get_numeric_data()\n",
    "df_numerical.info()\n"
   ]
  },
  {
   "cell_type": "code",
   "execution_count": 8,
   "metadata": {},
   "outputs": [
    {
     "data": {
      "image/png": "[encoded data removed]",
      "text/plain": [
       "<Figure size 640x480 with 1 Axes>"
      ]
     },
     "metadata": {},
     "output_type": "display_data"
    },
    {
     "data": {
      "image/png": "[encoded data removed]",
      "text/plain": [
       "<Figure size 640x480 with 1 Axes>"
      ]
     },
     "metadata": {},
     "output_type": "display_data"
    },
    {
     "data": {
      "image/png": "[encoded data removed]",
      "text/plain": [
       "<Figure size 640x480 with 1 Axes>"
      ]
     },
     "metadata": {},
     "output_type": "display_data"
    },
    {
     "data": {
      "image/png": "[encoded data removed]",
      "text/plain": [
       "<Figure size 640x480 with 1 Axes>"
      ]
     },
     "metadata": {},
     "output_type": "display_data"
    }
   ],
   "source": [
    "for i, col in enumerate(df_numerical.columns):\n",
    "    plt.figure(i)\n",
    "    sns.distplot(df_numerical[col])\n"
   ]
  },
  {
   "cell_type": "code",
   "execution_count": 9,
   "metadata": {},
   "outputs": [
    {
     "data": {
      "text/plain": [
       "count    44328.000000\n",
       "mean        49.424292\n",
       "std        109.153961\n",
       "min         -1.000000\n",
       "25%          9.000000\n",
       "50%         22.000000\n",
       "75%         53.000000\n",
       "max       4881.000000\n",
       "Name: Duration, dtype: float64"
      ]
     },
     "execution_count": 9,
     "metadata": {},
     "output_type": "execute_result"
    }
   ],
   "source": [
    "df['Duration'].describe()"
   ]
  },
  {
   "attachments": {},
   "cell_type": "markdown",
   "metadata": {},
   "source": [
    "Terlihat nilai min pada kolom durasi,dimana seharusnya durasi tidak bisa minus, tidak masuk akal"
   ]
  },
  {
   "cell_type": "code",
   "execution_count": 10,
   "metadata": {},
   "outputs": [
    {
     "data": {
      "text/plain": [
       "2"
      ]
     },
     "execution_count": 10,
     "metadata": {},
     "output_type": "execute_result"
    }
   ],
   "source": [
    "min_dur = df['Duration'] < 0\n",
    "min_dur.sum()\n",
    " "
   ]
  },
  {
   "attachments": {},
   "cell_type": "markdown",
   "metadata": {},
   "source": [
    "ganti minus dengan rata-rata durasi"
   ]
  },
  {
   "cell_type": "code",
   "execution_count": 11,
   "metadata": {},
   "outputs": [],
   "source": [
    "df.loc[df['Duration'] < 0, 'Duration'] = 49.424\n"
   ]
  },
  {
   "cell_type": "code",
   "execution_count": 12,
   "metadata": {},
   "outputs": [
    {
     "data": {
      "text/html": [
       "<div>\n",
       "<style scoped>\n",
       "    .dataframe tbody tr th:only-of-type {\n",
       "        vertical-align: middle;\n",
       "    }\n",
       "\n",
       "    .dataframe tbody tr th {\n",
       "        vertical-align: top;\n",
       "    }\n",
       "\n",
       "    .dataframe thead th {\n",
       "        text-align: right;\n",
       "    }\n",
       "</style>\n",
       "<table border=\"1\" class=\"dataframe\">\n",
       "  <thead>\n",
       "    <tr style=\"text-align: right;\">\n",
       "      <th></th>\n",
       "      <th>Net Sales</th>\n",
       "      <th>Commision (in value)</th>\n",
       "    </tr>\n",
       "    <tr>\n",
       "      <th>Claim</th>\n",
       "      <th></th>\n",
       "      <th></th>\n",
       "    </tr>\n",
       "  </thead>\n",
       "  <tbody>\n",
       "    <tr>\n",
       "      <th>No</th>\n",
       "      <td>1173.73</td>\n",
       "      <td>477.24</td>\n",
       "    </tr>\n",
       "  </tbody>\n",
       "</table>\n",
       "</div>"
      ],
      "text/plain": [
       "       Net Sales  Commision (in value)\n",
       "Claim                                 \n",
       "No       1173.73                477.24"
      ]
     },
     "execution_count": 12,
     "metadata": {},
     "output_type": "execute_result"
    }
   ],
   "source": [
    "df[df['Duration']==0].groupby(by='Claim')[\"Net Sales\", \"Commision (in value)\"].sum()"
   ]
  },
  {
   "attachments": {},
   "cell_type": "markdown",
   "metadata": {},
   "source": [
    "terdapat juga durasi perjalanan 0, dimana terdengar tidak mungkin dengan status claim yang ditolak"
   ]
  },
  {
   "cell_type": "code",
   "execution_count": 13,
   "metadata": {},
   "outputs": [
    {
     "data": {
      "text/plain": [
       "47"
      ]
     },
     "execution_count": 13,
     "metadata": {},
     "output_type": "execute_result"
    }
   ],
   "source": [
    "len(df[df['Duration']==0])"
   ]
  },
  {
   "attachments": {},
   "cell_type": "markdown",
   "metadata": {},
   "source": [
    "Drop perjalanan dengan durasi 0"
   ]
  },
  {
   "cell_type": "code",
   "execution_count": 14,
   "metadata": {},
   "outputs": [],
   "source": [
    "df.drop(index=df[df['Duration']==0].index.values, inplace = True)"
   ]
  },
  {
   "cell_type": "code",
   "execution_count": 15,
   "metadata": {},
   "outputs": [
    {
     "data": {
      "text/plain": [
       "<AxesSubplot:xlabel='Duration', ylabel='Count'>"
      ]
     },
     "execution_count": 15,
     "metadata": {},
     "output_type": "execute_result"
    },
    {
     "data": {
      "image/png": "[encoded data removed]",
      "text/plain": [
       "<Figure size 640x480 with 1 Axes>"
      ]
     },
     "metadata": {},
     "output_type": "display_data"
    }
   ],
   "source": [
    "sns.histplot(data=df, x=\"Duration\",binwidth=100)"
   ]
  },
  {
   "cell_type": "code",
   "execution_count": 16,
   "metadata": {},
   "outputs": [
    {
     "data": {
      "text/plain": [
       "[Text(0, 0, '123'),\n",
       " Text(0, 0, '0'),\n",
       " Text(0, 0, '0'),\n",
       " Text(0, 0, '0'),\n",
       " Text(0, 0, '0'),\n",
       " Text(0, 0, '0'),\n",
       " Text(0, 0, '0'),\n",
       " Text(0, 0, '0'),\n",
       " Text(0, 0, '13')]"
      ]
     },
     "execution_count": 16,
     "metadata": {},
     "output_type": "execute_result"
    },
    {
     "data": {
      "image/png": "[encoded data removed]",
      "text/plain": [
       "<Figure size 640x480 with 1 Axes>"
      ]
     },
     "metadata": {},
     "output_type": "display_data"
    }
   ],
   "source": [
    "df_duration = df[df['Duration'] > 400]\n",
    "ax = sns.histplot(data=df_duration, x=\"Duration\",\n",
    "                  binwidth=500)\n",
    "ax.bar_label(ax.containers[0])\n"
   ]
  },
  {
   "attachments": {},
   "cell_type": "markdown",
   "metadata": {},
   "source": [
    "sepertinya data durasi lebih dari 400 merupakan kesalahan input, karena jumlahnya sangat sedikit, kita akan drop durasi yang terlihat tidak normal"
   ]
  },
  {
   "cell_type": "code",
   "execution_count": 17,
   "metadata": {},
   "outputs": [],
   "source": [
    "df.drop(index=df[df['Duration']>400].index.values, inplace = True)"
   ]
  },
  {
   "attachments": {},
   "cell_type": "markdown",
   "metadata": {},
   "source": [
    "Berikutnya kita cek data duplicate"
   ]
  },
  {
   "cell_type": "code",
   "execution_count": 18,
   "metadata": {},
   "outputs": [
    {
     "data": {
      "text/plain": [
       "4989"
      ]
     },
     "execution_count": 18,
     "metadata": {},
     "output_type": "execute_result"
    }
   ],
   "source": [
    "df.duplicated().sum()\n"
   ]
  },
  {
   "attachments": {},
   "cell_type": "markdown",
   "metadata": {},
   "source": [
    "Terdapat sebanyak 4989 data duplicate, kita drop untuk menjadikan data persis satu satu"
   ]
  },
  {
   "cell_type": "code",
   "execution_count": 19,
   "metadata": {},
   "outputs": [],
   "source": [
    "df=df.drop_duplicates()"
   ]
  },
  {
   "cell_type": "code",
   "execution_count": 20,
   "metadata": {},
   "outputs": [
    {
     "name": "stdout",
     "output_type": "stream",
     "text": [
      "Number of duplicated rows:  0\n"
     ]
    }
   ],
   "source": [
    "# Cek kembali\n",
    "print(f\"Number of duplicated rows:  {df.duplicated().sum()}\")\n"
   ]
  },
  {
   "attachments": {},
   "cell_type": "markdown",
   "metadata": {},
   "source": [
    "Cek keselarasan antara Net sales dan komisi yang didapat"
   ]
  },
  {
   "cell_type": "code",
   "execution_count": 21,
   "metadata": {},
   "outputs": [
    {
     "data": {
      "text/plain": [
       "1372"
      ]
     },
     "execution_count": 21,
     "metadata": {},
     "output_type": "execute_result"
    }
   ],
   "source": [
    "com = df['Net Sales'] < df['Commision (in value)']\n",
    "com .sum()\n"
   ]
  },
  {
   "attachments": {},
   "cell_type": "markdown",
   "metadata": {},
   "source": [
    "terdapat 1372 data komisi yang lebih dari net sales hal ini tidak mungkin"
   ]
  },
  {
   "cell_type": "code",
   "execution_count": 22,
   "metadata": {},
   "outputs": [
    {
     "data": {
      "text/html": [
       "<div>\n",
       "<style scoped>\n",
       "    .dataframe tbody tr th:only-of-type {\n",
       "        vertical-align: middle;\n",
       "    }\n",
       "\n",
       "    .dataframe tbody tr th {\n",
       "        vertical-align: top;\n",
       "    }\n",
       "\n",
       "    .dataframe thead th {\n",
       "        text-align: right;\n",
       "    }\n",
       "</style>\n",
       "<table border=\"1\" class=\"dataframe\">\n",
       "  <thead>\n",
       "    <tr style=\"text-align: right;\">\n",
       "      <th>Agency Type</th>\n",
       "      <th>Airlines</th>\n",
       "      <th>Travel Agency</th>\n",
       "      <th>All</th>\n",
       "    </tr>\n",
       "    <tr>\n",
       "      <th>Agency</th>\n",
       "      <th></th>\n",
       "      <th></th>\n",
       "      <th></th>\n",
       "    </tr>\n",
       "  </thead>\n",
       "  <tbody>\n",
       "    <tr>\n",
       "      <th>ADM</th>\n",
       "      <td>0</td>\n",
       "      <td>55</td>\n",
       "      <td>55</td>\n",
       "    </tr>\n",
       "    <tr>\n",
       "      <th>ART</th>\n",
       "      <td>226</td>\n",
       "      <td>0</td>\n",
       "      <td>226</td>\n",
       "    </tr>\n",
       "    <tr>\n",
       "      <th>C2B</th>\n",
       "      <td>5248</td>\n",
       "      <td>0</td>\n",
       "      <td>5248</td>\n",
       "    </tr>\n",
       "    <tr>\n",
       "      <th>CBH</th>\n",
       "      <td>0</td>\n",
       "      <td>67</td>\n",
       "      <td>67</td>\n",
       "    </tr>\n",
       "    <tr>\n",
       "      <th>CCR</th>\n",
       "      <td>0</td>\n",
       "      <td>114</td>\n",
       "      <td>114</td>\n",
       "    </tr>\n",
       "    <tr>\n",
       "      <th>CSR</th>\n",
       "      <td>0</td>\n",
       "      <td>68</td>\n",
       "      <td>68</td>\n",
       "    </tr>\n",
       "    <tr>\n",
       "      <th>CWT</th>\n",
       "      <td>0</td>\n",
       "      <td>5723</td>\n",
       "      <td>5723</td>\n",
       "    </tr>\n",
       "    <tr>\n",
       "      <th>EPX</th>\n",
       "      <td>0</td>\n",
       "      <td>20990</td>\n",
       "      <td>20990</td>\n",
       "    </tr>\n",
       "    <tr>\n",
       "      <th>JWT</th>\n",
       "      <td>280</td>\n",
       "      <td>0</td>\n",
       "      <td>280</td>\n",
       "    </tr>\n",
       "    <tr>\n",
       "      <th>JZI</th>\n",
       "      <td>4223</td>\n",
       "      <td>0</td>\n",
       "      <td>4223</td>\n",
       "    </tr>\n",
       "    <tr>\n",
       "      <th>KML</th>\n",
       "      <td>0</td>\n",
       "      <td>229</td>\n",
       "      <td>229</td>\n",
       "    </tr>\n",
       "    <tr>\n",
       "      <th>LWC</th>\n",
       "      <td>0</td>\n",
       "      <td>416</td>\n",
       "      <td>416</td>\n",
       "    </tr>\n",
       "    <tr>\n",
       "      <th>RAB</th>\n",
       "      <td>438</td>\n",
       "      <td>0</td>\n",
       "      <td>438</td>\n",
       "    </tr>\n",
       "    <tr>\n",
       "      <th>SSI</th>\n",
       "      <td>687</td>\n",
       "      <td>0</td>\n",
       "      <td>687</td>\n",
       "    </tr>\n",
       "    <tr>\n",
       "      <th>TST</th>\n",
       "      <td>0</td>\n",
       "      <td>329</td>\n",
       "      <td>329</td>\n",
       "    </tr>\n",
       "    <tr>\n",
       "      <th>TTW</th>\n",
       "      <td>0</td>\n",
       "      <td>63</td>\n",
       "      <td>63</td>\n",
       "    </tr>\n",
       "    <tr>\n",
       "      <th>All</th>\n",
       "      <td>11102</td>\n",
       "      <td>28054</td>\n",
       "      <td>39156</td>\n",
       "    </tr>\n",
       "  </tbody>\n",
       "</table>\n",
       "</div>"
      ],
      "text/plain": [
       "Agency Type  Airlines  Travel Agency    All\n",
       "Agency                                     \n",
       "ADM                 0             55     55\n",
       "ART               226              0    226\n",
       "C2B              5248              0   5248\n",
       "CBH                 0             67     67\n",
       "CCR                 0            114    114\n",
       "CSR                 0             68     68\n",
       "CWT                 0           5723   5723\n",
       "EPX                 0          20990  20990\n",
       "JWT               280              0    280\n",
       "JZI              4223              0   4223\n",
       "KML                 0            229    229\n",
       "LWC                 0            416    416\n",
       "RAB               438              0    438\n",
       "SSI               687              0    687\n",
       "TST                 0            329    329\n",
       "TTW                 0             63     63\n",
       "All             11102          28054  39156"
      ]
     },
     "execution_count": 22,
     "metadata": {},
     "output_type": "execute_result"
    }
   ],
   "source": [
    "pd.crosstab(df['Agency'],df['Agency Type'],margins=True)"
   ]
  },
  {
   "cell_type": "code",
   "execution_count": 23,
   "metadata": {},
   "outputs": [
    {
     "data": {
      "text/html": [
       "<div>\n",
       "<style scoped>\n",
       "    .dataframe tbody tr th:only-of-type {\n",
       "        vertical-align: middle;\n",
       "    }\n",
       "\n",
       "    .dataframe tbody tr th {\n",
       "        vertical-align: top;\n",
       "    }\n",
       "\n",
       "    .dataframe thead th {\n",
       "        text-align: right;\n",
       "    }\n",
       "</style>\n",
       "<table border=\"1\" class=\"dataframe\">\n",
       "  <thead>\n",
       "    <tr style=\"text-align: right;\">\n",
       "      <th>Claim</th>\n",
       "      <th>No</th>\n",
       "      <th>Yes</th>\n",
       "      <th>All</th>\n",
       "      <th>mean commision</th>\n",
       "    </tr>\n",
       "    <tr>\n",
       "      <th>Product Name</th>\n",
       "      <th></th>\n",
       "      <th></th>\n",
       "      <th></th>\n",
       "      <th></th>\n",
       "    </tr>\n",
       "  </thead>\n",
       "  <tbody>\n",
       "    <tr>\n",
       "      <th>1 way Comprehensive Plan</th>\n",
       "      <td>99.621212</td>\n",
       "      <td>0.378788</td>\n",
       "      <td>100.0</td>\n",
       "      <td>0.000000</td>\n",
       "    </tr>\n",
       "    <tr>\n",
       "      <th>2 way Comprehensive Plan</th>\n",
       "      <td>98.831919</td>\n",
       "      <td>1.168081</td>\n",
       "      <td>100.0</td>\n",
       "      <td>0.000000</td>\n",
       "    </tr>\n",
       "    <tr>\n",
       "      <th>24 Protect</th>\n",
       "      <td>100.000000</td>\n",
       "      <td>0.000000</td>\n",
       "      <td>100.0</td>\n",
       "      <td>8.612924</td>\n",
       "    </tr>\n",
       "    <tr>\n",
       "      <th>Annual Gold Plan</th>\n",
       "      <td>88.188976</td>\n",
       "      <td>11.811024</td>\n",
       "      <td>100.0</td>\n",
       "      <td>89.007874</td>\n",
       "    </tr>\n",
       "    <tr>\n",
       "      <th>Annual Silver Plan</th>\n",
       "      <td>86.597938</td>\n",
       "      <td>13.402062</td>\n",
       "      <td>100.0</td>\n",
       "      <td>57.270979</td>\n",
       "    </tr>\n",
       "    <tr>\n",
       "      <th>Annual Travel Protect Gold</th>\n",
       "      <td>86.538462</td>\n",
       "      <td>13.461538</td>\n",
       "      <td>100.0</td>\n",
       "      <td>162.464231</td>\n",
       "    </tr>\n",
       "    <tr>\n",
       "      <th>Annual Travel Protect Platinum</th>\n",
       "      <td>96.666667</td>\n",
       "      <td>3.333333</td>\n",
       "      <td>100.0</td>\n",
       "      <td>218.128667</td>\n",
       "    </tr>\n",
       "    <tr>\n",
       "      <th>Annual Travel Protect Silver</th>\n",
       "      <td>89.743590</td>\n",
       "      <td>10.256410</td>\n",
       "      <td>100.0</td>\n",
       "      <td>134.410256</td>\n",
       "    </tr>\n",
       "    <tr>\n",
       "      <th>Basic Plan</th>\n",
       "      <td>99.558986</td>\n",
       "      <td>0.441014</td>\n",
       "      <td>100.0</td>\n",
       "      <td>9.649118</td>\n",
       "    </tr>\n",
       "    <tr>\n",
       "      <th>Bronze Plan</th>\n",
       "      <td>93.916350</td>\n",
       "      <td>6.083650</td>\n",
       "      <td>100.0</td>\n",
       "      <td>8.935498</td>\n",
       "    </tr>\n",
       "    <tr>\n",
       "      <th>Cancellation Plan</th>\n",
       "      <td>99.718412</td>\n",
       "      <td>0.281588</td>\n",
       "      <td>100.0</td>\n",
       "      <td>0.000000</td>\n",
       "    </tr>\n",
       "    <tr>\n",
       "      <th>Child Comprehensive Plan</th>\n",
       "      <td>100.000000</td>\n",
       "      <td>0.000000</td>\n",
       "      <td>100.0</td>\n",
       "      <td>0.000000</td>\n",
       "    </tr>\n",
       "    <tr>\n",
       "      <th>Comprehensive Plan</th>\n",
       "      <td>98.326360</td>\n",
       "      <td>1.673640</td>\n",
       "      <td>100.0</td>\n",
       "      <td>9.888954</td>\n",
       "    </tr>\n",
       "    <tr>\n",
       "      <th>Gold Plan</th>\n",
       "      <td>94.893617</td>\n",
       "      <td>5.106383</td>\n",
       "      <td>100.0</td>\n",
       "      <td>22.758723</td>\n",
       "    </tr>\n",
       "    <tr>\n",
       "      <th>Individual Comprehensive Plan</th>\n",
       "      <td>100.000000</td>\n",
       "      <td>0.000000</td>\n",
       "      <td>100.0</td>\n",
       "      <td>0.000000</td>\n",
       "    </tr>\n",
       "    <tr>\n",
       "      <th>Premier Plan</th>\n",
       "      <td>98.319328</td>\n",
       "      <td>1.680672</td>\n",
       "      <td>100.0</td>\n",
       "      <td>30.779748</td>\n",
       "    </tr>\n",
       "    <tr>\n",
       "      <th>Rental Vehicle Excess Insurance</th>\n",
       "      <td>98.881705</td>\n",
       "      <td>1.118295</td>\n",
       "      <td>100.0</td>\n",
       "      <td>32.731756</td>\n",
       "    </tr>\n",
       "    <tr>\n",
       "      <th>Silver Plan</th>\n",
       "      <td>92.702703</td>\n",
       "      <td>7.297297</td>\n",
       "      <td>100.0</td>\n",
       "      <td>13.251250</td>\n",
       "    </tr>\n",
       "    <tr>\n",
       "      <th>Single Trip Travel Protect Gold</th>\n",
       "      <td>94.696970</td>\n",
       "      <td>5.303030</td>\n",
       "      <td>100.0</td>\n",
       "      <td>28.293788</td>\n",
       "    </tr>\n",
       "    <tr>\n",
       "      <th>Single Trip Travel Protect Platinum</th>\n",
       "      <td>89.361702</td>\n",
       "      <td>10.638298</td>\n",
       "      <td>100.0</td>\n",
       "      <td>27.313830</td>\n",
       "    </tr>\n",
       "    <tr>\n",
       "      <th>Single Trip Travel Protect Silver</th>\n",
       "      <td>96.551724</td>\n",
       "      <td>3.448276</td>\n",
       "      <td>100.0</td>\n",
       "      <td>23.371810</td>\n",
       "    </tr>\n",
       "    <tr>\n",
       "      <th>Spouse or Parents Comprehensive Plan</th>\n",
       "      <td>92.307692</td>\n",
       "      <td>7.692308</td>\n",
       "      <td>100.0</td>\n",
       "      <td>0.000000</td>\n",
       "    </tr>\n",
       "    <tr>\n",
       "      <th>Ticket Protector</th>\n",
       "      <td>99.272198</td>\n",
       "      <td>0.727802</td>\n",
       "      <td>100.0</td>\n",
       "      <td>1.840262</td>\n",
       "    </tr>\n",
       "    <tr>\n",
       "      <th>Travel Cruise Protect</th>\n",
       "      <td>99.390244</td>\n",
       "      <td>0.609756</td>\n",
       "      <td>100.0</td>\n",
       "      <td>10.500000</td>\n",
       "    </tr>\n",
       "    <tr>\n",
       "      <th>Travel Cruise Protect Family</th>\n",
       "      <td>100.000000</td>\n",
       "      <td>0.000000</td>\n",
       "      <td>100.0</td>\n",
       "      <td>22.750000</td>\n",
       "    </tr>\n",
       "    <tr>\n",
       "      <th>Value Plan</th>\n",
       "      <td>99.092677</td>\n",
       "      <td>0.907323</td>\n",
       "      <td>100.0</td>\n",
       "      <td>20.319209</td>\n",
       "    </tr>\n",
       "  </tbody>\n",
       "</table>\n",
       "</div>"
      ],
      "text/plain": [
       "Claim                                         No        Yes    All  \\\n",
       "Product Name                                                         \n",
       "1 way Comprehensive Plan               99.621212   0.378788  100.0   \n",
       "2 way Comprehensive Plan               98.831919   1.168081  100.0   \n",
       "24 Protect                            100.000000   0.000000  100.0   \n",
       "Annual Gold Plan                       88.188976  11.811024  100.0   \n",
       "Annual Silver Plan                     86.597938  13.402062  100.0   \n",
       "Annual Travel Protect Gold             86.538462  13.461538  100.0   \n",
       "Annual Travel Protect Platinum         96.666667   3.333333  100.0   \n",
       "Annual Travel Protect Silver           89.743590  10.256410  100.0   \n",
       "Basic Plan                             99.558986   0.441014  100.0   \n",
       "Bronze Plan                            93.916350   6.083650  100.0   \n",
       "Cancellation Plan                      99.718412   0.281588  100.0   \n",
       "Child Comprehensive Plan              100.000000   0.000000  100.0   \n",
       "Comprehensive Plan                     98.326360   1.673640  100.0   \n",
       "Gold Plan                              94.893617   5.106383  100.0   \n",
       "Individual Comprehensive Plan         100.000000   0.000000  100.0   \n",
       "Premier Plan                           98.319328   1.680672  100.0   \n",
       "Rental Vehicle Excess Insurance        98.881705   1.118295  100.0   \n",
       "Silver Plan                            92.702703   7.297297  100.0   \n",
       "Single Trip Travel Protect Gold        94.696970   5.303030  100.0   \n",
       "Single Trip Travel Protect Platinum    89.361702  10.638298  100.0   \n",
       "Single Trip Travel Protect Silver      96.551724   3.448276  100.0   \n",
       "Spouse or Parents Comprehensive Plan   92.307692   7.692308  100.0   \n",
       "Ticket Protector                       99.272198   0.727802  100.0   \n",
       "Travel Cruise Protect                  99.390244   0.609756  100.0   \n",
       "Travel Cruise Protect Family          100.000000   0.000000  100.0   \n",
       "Value Plan                             99.092677   0.907323  100.0   \n",
       "\n",
       "Claim                                 mean commision  \n",
       "Product Name                                          \n",
       "1 way Comprehensive Plan                    0.000000  \n",
       "2 way Comprehensive Plan                    0.000000  \n",
       "24 Protect                                  8.612924  \n",
       "Annual Gold Plan                           89.007874  \n",
       "Annual Silver Plan                         57.270979  \n",
       "Annual Travel Protect Gold                162.464231  \n",
       "Annual Travel Protect Platinum            218.128667  \n",
       "Annual Travel Protect Silver              134.410256  \n",
       "Basic Plan                                  9.649118  \n",
       "Bronze Plan                                 8.935498  \n",
       "Cancellation Plan                           0.000000  \n",
       "Child Comprehensive Plan                    0.000000  \n",
       "Comprehensive Plan                          9.888954  \n",
       "Gold Plan                                  22.758723  \n",
       "Individual Comprehensive Plan               0.000000  \n",
       "Premier Plan                               30.779748  \n",
       "Rental Vehicle Excess Insurance            32.731756  \n",
       "Silver Plan                                13.251250  \n",
       "Single Trip Travel Protect Gold            28.293788  \n",
       "Single Trip Travel Protect Platinum        27.313830  \n",
       "Single Trip Travel Protect Silver          23.371810  \n",
       "Spouse or Parents Comprehensive Plan        0.000000  \n",
       "Ticket Protector                            1.840262  \n",
       "Travel Cruise Protect                      10.500000  \n",
       "Travel Cruise Protect Family               22.750000  \n",
       "Value Plan                                 20.319209  "
      ]
     },
     "execution_count": 23,
     "metadata": {},
     "output_type": "execute_result"
    }
   ],
   "source": [
    "prod = pd.crosstab(df['Product Name'], df['Claim'], margins=True)\n",
    "prod = (prod.div(prod['All'], axis=0))*100\n",
    "\n",
    "prod['mean commision'] = df.groupby(\n",
    "    'Product Name')['Commision (in value)'].mean()\n",
    "prod.drop(index=['All'], inplace=True)\n",
    "prod\n"
   ]
  },
  {
   "cell_type": "code",
   "execution_count": 24,
   "metadata": {},
   "outputs": [
    {
     "data": {
      "text/html": [
       "<div>\n",
       "<style scoped>\n",
       "    .dataframe tbody tr th:only-of-type {\n",
       "        vertical-align: middle;\n",
       "    }\n",
       "\n",
       "    .dataframe tbody tr th {\n",
       "        vertical-align: top;\n",
       "    }\n",
       "\n",
       "    .dataframe thead th {\n",
       "        text-align: right;\n",
       "    }\n",
       "</style>\n",
       "<table border=\"1\" class=\"dataframe\">\n",
       "  <thead>\n",
       "    <tr style=\"text-align: right;\">\n",
       "      <th></th>\n",
       "      <th>Duration</th>\n",
       "      <th>Net Sales</th>\n",
       "      <th>Commision (in value)</th>\n",
       "      <th>Age</th>\n",
       "    </tr>\n",
       "  </thead>\n",
       "  <tbody>\n",
       "    <tr>\n",
       "      <th>count</th>\n",
       "      <td>39156.000000</td>\n",
       "      <td>39156.000000</td>\n",
       "      <td>39156.000000</td>\n",
       "      <td>39156.000000</td>\n",
       "    </tr>\n",
       "    <tr>\n",
       "      <th>mean</th>\n",
       "      <td>49.590429</td>\n",
       "      <td>41.732582</td>\n",
       "      <td>10.166613</td>\n",
       "      <td>39.814767</td>\n",
       "    </tr>\n",
       "    <tr>\n",
       "      <th>std</th>\n",
       "      <td>71.277291</td>\n",
       "      <td>48.619368</td>\n",
       "      <td>19.787243</td>\n",
       "      <td>13.195131</td>\n",
       "    </tr>\n",
       "    <tr>\n",
       "      <th>min</th>\n",
       "      <td>1.000000</td>\n",
       "      <td>-357.500000</td>\n",
       "      <td>0.000000</td>\n",
       "      <td>0.000000</td>\n",
       "    </tr>\n",
       "    <tr>\n",
       "      <th>25%</th>\n",
       "      <td>11.000000</td>\n",
       "      <td>19.000000</td>\n",
       "      <td>0.000000</td>\n",
       "      <td>35.000000</td>\n",
       "    </tr>\n",
       "    <tr>\n",
       "      <th>50%</th>\n",
       "      <td>25.000000</td>\n",
       "      <td>29.000000</td>\n",
       "      <td>0.000000</td>\n",
       "      <td>36.000000</td>\n",
       "    </tr>\n",
       "    <tr>\n",
       "      <th>75%</th>\n",
       "      <td>56.000000</td>\n",
       "      <td>49.500000</td>\n",
       "      <td>11.880000</td>\n",
       "      <td>44.000000</td>\n",
       "    </tr>\n",
       "    <tr>\n",
       "      <th>max</th>\n",
       "      <td>400.000000</td>\n",
       "      <td>810.000000</td>\n",
       "      <td>283.500000</td>\n",
       "      <td>118.000000</td>\n",
       "    </tr>\n",
       "  </tbody>\n",
       "</table>\n",
       "</div>"
      ],
      "text/plain": [
       "           Duration     Net Sales  Commision (in value)           Age\n",
       "count  39156.000000  39156.000000          39156.000000  39156.000000\n",
       "mean      49.590429     41.732582             10.166613     39.814767\n",
       "std       71.277291     48.619368             19.787243     13.195131\n",
       "min        1.000000   -357.500000              0.000000      0.000000\n",
       "25%       11.000000     19.000000              0.000000     35.000000\n",
       "50%       25.000000     29.000000              0.000000     36.000000\n",
       "75%       56.000000     49.500000             11.880000     44.000000\n",
       "max      400.000000    810.000000            283.500000    118.000000"
      ]
     },
     "execution_count": 24,
     "metadata": {},
     "output_type": "execute_result"
    }
   ],
   "source": [
    "df.describe()"
   ]
  },
  {
   "cell_type": "code",
   "execution_count": 25,
   "metadata": {},
   "outputs": [
    {
     "name": "stdout",
     "output_type": "stream",
     "text": [
      "<class 'pandas.core.frame.DataFrame'>\n",
      "Int64Index: 39156 entries, 0 to 44327\n",
      "Data columns (total 10 columns):\n",
      " #   Column                Non-Null Count  Dtype  \n",
      "---  ------                --------------  -----  \n",
      " 0   Agency                39156 non-null  object \n",
      " 1   Agency Type           39156 non-null  object \n",
      " 2   Distribution Channel  39156 non-null  object \n",
      " 3   Product Name          39156 non-null  object \n",
      " 4   Duration              39156 non-null  float64\n",
      " 5   Destination           39156 non-null  object \n",
      " 6   Net Sales             39156 non-null  float64\n",
      " 7   Commision (in value)  39156 non-null  float64\n",
      " 8   Age                   39156 non-null  int64  \n",
      " 9   Claim                 39156 non-null  object \n",
      "dtypes: float64(3), int64(1), object(6)\n",
      "memory usage: 3.3+ MB\n"
     ]
    }
   ],
   "source": [
    "df.info()"
   ]
  },
  {
   "attachments": {},
   "cell_type": "markdown",
   "metadata": {},
   "source": [
    "Cek isi data dari setiap columns"
   ]
  },
  {
   "cell_type": "code",
   "execution_count": 26,
   "metadata": {},
   "outputs": [
    {
     "name": "stdout",
     "output_type": "stream",
     "text": [
      "Unique dari Agency ada : \n",
      "['C2B' 'EPX' 'JZI' 'CWT' 'LWC' 'ART' 'CSR' 'RAB' 'KML' 'SSI' 'TST' 'TTW'\n",
      " 'JWT' 'ADM' 'CCR' 'CBH']\n",
      "\n",
      "Unique dari Agency Type ada : \n",
      "['Airlines' 'Travel Agency']\n",
      "\n",
      "Unique dari Distribution Channel ada : \n",
      "['Online' 'Offline']\n",
      "\n",
      "Unique dari Product Name ada : \n",
      "['Annual Silver Plan' 'Cancellation Plan' 'Basic Plan'\n",
      " '2 way Comprehensive Plan' 'Bronze Plan' '1 way Comprehensive Plan'\n",
      " 'Rental Vehicle Excess Insurance' 'Single Trip Travel Protect Gold'\n",
      " 'Silver Plan' 'Value Plan' '24 Protect' 'Annual Travel Protect Gold'\n",
      " 'Comprehensive Plan' 'Ticket Protector' 'Travel Cruise Protect'\n",
      " 'Single Trip Travel Protect Silver' 'Individual Comprehensive Plan'\n",
      " 'Gold Plan' 'Annual Gold Plan' 'Child Comprehensive Plan' 'Premier Plan'\n",
      " 'Single Trip Travel Protect Platinum' 'Annual Travel Protect Silver'\n",
      " 'Annual Travel Protect Platinum' 'Spouse or Parents Comprehensive Plan'\n",
      " 'Travel Cruise Protect Family']\n",
      "\n",
      "Unique dari Destination ada : \n",
      "['SINGAPORE' 'MALAYSIA' 'INDIA' 'UNITED STATES' 'KOREA, REPUBLIC OF'\n",
      " 'THAILAND' 'GERMANY' 'JAPAN' 'INDONESIA' 'VIET NAM' 'AUSTRALIA' 'FINLAND'\n",
      " 'UNITED KINGDOM' 'SRI LANKA' 'SPAIN' 'HONG KONG' 'MACAO' 'CHINA'\n",
      " 'UNITED ARAB EMIRATES' 'IRAN, ISLAMIC REPUBLIC OF'\n",
      " 'TAIWAN, PROVINCE OF CHINA' 'POLAND' 'CANADA' 'OMAN' 'PHILIPPINES'\n",
      " 'GREECE' 'BELGIUM' 'TURKEY' 'BRUNEI DARUSSALAM' 'DENMARK' 'SWITZERLAND'\n",
      " 'NETHERLANDS' 'SWEDEN' 'MYANMAR' 'KENYA' 'CZECH REPUBLIC' 'FRANCE'\n",
      " 'RUSSIAN FEDERATION' 'PAKISTAN' 'ARGENTINA'\n",
      " 'TANZANIA, UNITED REPUBLIC OF' 'SERBIA' 'ITALY' 'CROATIA' 'NEW ZEALAND'\n",
      " 'PERU' 'MONGOLIA' 'CAMBODIA' 'QATAR' 'NORWAY' 'LUXEMBOURG' 'MALTA'\n",
      " \"LAO PEOPLE'S DEMOCRATIC REPUBLIC\" 'ISRAEL' 'SAUDI ARABIA' 'AUSTRIA'\n",
      " 'PORTUGAL' 'NEPAL' 'UKRAINE' 'ESTONIA' 'ICELAND' 'BRAZIL' 'MEXICO'\n",
      " 'CAYMAN ISLANDS' 'PANAMA' 'BANGLADESH' 'TURKMENISTAN' 'BAHRAIN'\n",
      " 'KAZAKHSTAN' 'TUNISIA' 'IRELAND' 'ETHIOPIA' 'NORTHERN MARIANA ISLANDS'\n",
      " 'MALDIVES' 'SOUTH AFRICA' 'VENEZUELA' 'COSTA RICA' 'JORDAN' 'MALI'\n",
      " 'CYPRUS' 'MAURITIUS' 'LEBANON' 'KUWAIT' 'AZERBAIJAN' 'HUNGARY' 'BHUTAN'\n",
      " 'BELARUS' 'MOROCCO' 'ECUADOR' 'UZBEKISTAN' 'CHILE' 'FIJI'\n",
      " 'PAPUA NEW GUINEA' 'ANGOLA' 'FRENCH POLYNESIA' 'NIGERIA'\n",
      " 'MACEDONIA, THE FORMER YUGOSLAV REPUBLIC OF' 'NAMIBIA' 'GEORGIA'\n",
      " 'COLOMBIA' 'SLOVENIA' 'EGYPT' 'ZIMBABWE' 'BULGARIA' 'BERMUDA' 'URUGUAY'\n",
      " 'GUINEA' 'GHANA' 'BOLIVIA' 'TRINIDAD AND TOBAGO' 'VANUATU' 'GUAM'\n",
      " 'UGANDA' 'JAMAICA' 'LATVIA' 'ROMANIA' 'REPUBLIC OF MONTENEGRO'\n",
      " 'KYRGYZSTAN' 'GUADELOUPE' 'ZAMBIA' 'RWANDA' 'BOTSWANA' 'GUYANA'\n",
      " 'LITHUANIA' 'GUINEA-BISSAU' 'SENEGAL' 'CAMEROON' 'TIBET' 'SAMOA'\n",
      " 'PUERTO RICO' 'TAJIKISTAN' 'ARMENIA'\n",
      " \"KOREA, DEMOCRATIC PEOPLE'S REPUBLIC OF\" 'FAROE ISLANDS'\n",
      " 'DOMINICAN REPUBLIC' 'MOLDOVA, REPUBLIC OF' 'BENIN' 'REUNION']\n",
      "\n",
      "Unique dari Claim ada : \n",
      "['No' 'Yes']\n",
      "\n"
     ]
    }
   ],
   "source": [
    "column_keys = df.select_dtypes(include=['object']).columns.tolist()\n",
    "for key in column_keys:\n",
    "    print('Unique dari', key, 'ada : ')\n",
    "    print(df[key].unique(), end='\\n')\n",
    "    print(end='\\n')\n"
   ]
  },
  {
   "cell_type": "code",
   "execution_count": 27,
   "metadata": {},
   "outputs": [
    {
     "data": {
      "text/plain": [
       "array(['ZIMBABWE', 'ZAMBIA', 'VIET NAM', 'VENEZUELA', 'VANUATU',\n",
       "       'UZBEKISTAN', 'URUGUAY', 'UNITED STATES', 'UNITED KINGDOM',\n",
       "       'UNITED ARAB EMIRATES', 'UKRAINE', 'UGANDA', 'TURKMENISTAN',\n",
       "       'TURKEY', 'TUNISIA', 'TRINIDAD AND TOBAGO', 'TIBET', 'THAILAND',\n",
       "       'TANZANIA, UNITED REPUBLIC OF', 'TAJIKISTAN',\n",
       "       'TAIWAN, PROVINCE OF CHINA', 'SWITZERLAND', 'SWEDEN', 'SRI LANKA',\n",
       "       'SPAIN', 'SOUTH AFRICA', 'SLOVENIA', 'SINGAPORE', 'SERBIA',\n",
       "       'SENEGAL', 'SAUDI ARABIA', 'SAMOA', 'RWANDA', 'RUSSIAN FEDERATION',\n",
       "       'ROMANIA', 'REUNION', 'REPUBLIC OF MONTENEGRO', 'QATAR',\n",
       "       'PUERTO RICO', 'PORTUGAL', 'POLAND', 'PHILIPPINES', 'PERU',\n",
       "       'PAPUA NEW GUINEA', 'PANAMA', 'PAKISTAN', 'OMAN', 'NORWAY',\n",
       "       'NORTHERN MARIANA ISLANDS', 'NIGERIA', 'NEW ZEALAND',\n",
       "       'NETHERLANDS', 'NEPAL', 'NAMIBIA', 'MYANMAR', 'MOROCCO',\n",
       "       'MONGOLIA', 'MOLDOVA, REPUBLIC OF', 'MEXICO', 'MAURITIUS', 'MALTA',\n",
       "       'MALI', 'MALDIVES', 'MALAYSIA',\n",
       "       'MACEDONIA, THE FORMER YUGOSLAV REPUBLIC OF', 'MACAO',\n",
       "       'LUXEMBOURG', 'LITHUANIA', 'LEBANON', 'LATVIA',\n",
       "       \"LAO PEOPLE'S DEMOCRATIC REPUBLIC\", 'KYRGYZSTAN', 'KUWAIT',\n",
       "       'KOREA, REPUBLIC OF', \"KOREA, DEMOCRATIC PEOPLE'S REPUBLIC OF\",\n",
       "       'KENYA', 'KAZAKHSTAN', 'JORDAN', 'JAPAN', 'JAMAICA', 'ITALY',\n",
       "       'ISRAEL', 'IRELAND', 'IRAN, ISLAMIC REPUBLIC OF', 'INDONESIA',\n",
       "       'INDIA', 'ICELAND', 'HUNGARY', 'HONG KONG', 'GUYANA',\n",
       "       'GUINEA-BISSAU', 'GUINEA', 'GUAM', 'GUADELOUPE', 'GREECE', 'GHANA',\n",
       "       'GERMANY', 'GEORGIA', 'FRENCH POLYNESIA', 'FRANCE', 'FINLAND',\n",
       "       'FIJI', 'FAROE ISLANDS', 'ETHIOPIA', 'ESTONIA', 'EGYPT', 'ECUADOR',\n",
       "       'DOMINICAN REPUBLIC', 'DENMARK', 'CZECH REPUBLIC', 'CYPRUS',\n",
       "       'CROATIA', 'COSTA RICA', 'COLOMBIA', 'CHINA', 'CHILE',\n",
       "       'CAYMAN ISLANDS', 'CANADA', 'CAMEROON', 'CAMBODIA', 'BULGARIA',\n",
       "       'BRUNEI DARUSSALAM', 'BRAZIL', 'BOTSWANA', 'BOLIVIA', 'BHUTAN',\n",
       "       'BERMUDA', 'BENIN', 'BELGIUM', 'BELARUS', 'BANGLADESH', 'BAHRAIN',\n",
       "       'AZERBAIJAN', 'AUSTRIA', 'AUSTRALIA', 'ARMENIA', 'ARGENTINA',\n",
       "       'ANGOLA'], dtype=object)"
      ]
     },
     "execution_count": 27,
     "metadata": {},
     "output_type": "execute_result"
    }
   ],
   "source": [
    "df['Destination'].sort_values(ascending=False).unique()\n"
   ]
  },
  {
   "attachments": {},
   "cell_type": "markdown",
   "metadata": {},
   "source": [
    "Terdapat kesalahan penulisan destinasi pada vietnam "
   ]
  },
  {
   "cell_type": "code",
   "execution_count": 28,
   "metadata": {},
   "outputs": [],
   "source": [
    "df['Destination'].replace({'VIET NAM':'VIETNAM'},inplace=True)"
   ]
  },
  {
   "attachments": {},
   "cell_type": "markdown",
   "metadata": {},
   "source": [
    "Cek distribusi claims"
   ]
  },
  {
   "cell_type": "code",
   "execution_count": 29,
   "metadata": {},
   "outputs": [
    {
     "data": {
      "text/plain": [
       "Text(0.5, 1.0, 'Distribution of Claims')"
      ]
     },
     "execution_count": 29,
     "metadata": {},
     "output_type": "execute_result"
    },
    {
     "data": {
      "image/png": "[encoded data removed]",
      "text/plain": [
       "<Figure size 640x480 with 1 Axes>"
      ]
     },
     "metadata": {},
     "output_type": "display_data"
    }
   ],
   "source": [
    "\n",
    "sns.countplot(x=df[\"Claim\"]).set_title(\"Distribution of Claims\")\n"
   ]
  },
  {
   "attachments": {},
   "cell_type": "markdown",
   "metadata": {},
   "source": [
    "terlihat data sangat imbalance claim dengan tidak"
   ]
  },
  {
   "cell_type": "code",
   "execution_count": 30,
   "metadata": {},
   "outputs": [
    {
     "data": {
      "text/plain": [
       "array(['No', 'Yes'], dtype=object)"
      ]
     },
     "execution_count": 30,
     "metadata": {},
     "output_type": "execute_result"
    }
   ],
   "source": [
    "df['Claim'].unique()"
   ]
  },
  {
   "cell_type": "code",
   "execution_count": 31,
   "metadata": {},
   "outputs": [
    {
     "data": {
      "text/plain": [
       "<AxesSubplot:>"
      ]
     },
     "execution_count": 31,
     "metadata": {},
     "output_type": "execute_result"
    },
    {
     "data": {
      "image/png": "[encoded data removed]",
      "text/plain": [
       "<Figure size 1500x800 with 2 Axes>"
      ]
     },
     "metadata": {},
     "output_type": "display_data"
    }
   ],
   "source": [
    "plt.figure(figsize=[15,8])\n",
    "sns.heatmap(df.corr(),annot = True)"
   ]
  },
  {
   "attachments": {},
   "cell_type": "markdown",
   "metadata": {},
   "source": [
    "# Preprocesing"
   ]
  },
  {
   "cell_type": "code",
   "execution_count": 33,
   "metadata": {},
   "outputs": [],
   "source": [
    "from sklearn import preprocessing"
   ]
  },
  {
   "cell_type": "code",
   "execution_count": 34,
   "metadata": {},
   "outputs": [
    {
     "data": {
      "text/plain": [
       "Index(['Agency', 'Agency Type', 'Distribution Channel', 'Product Name',\n",
       "       'Duration', 'Destination', 'Net Sales', 'Commision (in value)', 'Age',\n",
       "       'Claim'],\n",
       "      dtype='object')"
      ]
     },
     "execution_count": 34,
     "metadata": {},
     "output_type": "execute_result"
    }
   ],
   "source": [
    "df.columns"
   ]
  },
  {
   "attachments": {},
   "cell_type": "markdown",
   "metadata": {},
   "source": [
    "Menggunakan Label Encoder untuk mengubah data kategorikal"
   ]
  },
  {
   "cell_type": "code",
   "execution_count": 35,
   "metadata": {},
   "outputs": [],
   "source": [
    "label_encoder1 = preprocessing.LabelEncoder()\n",
    "df['Agency']= label_encoder1.fit_transform(df['Agency'])\n",
    "  \n",
    "label_encoder2 = preprocessing.LabelEncoder()\n",
    "df['Agency Type']= label_encoder2.fit_transform(df['Agency Type'])\n",
    "\n",
    "label_encoder3 = preprocessing.LabelEncoder()\n",
    "df['Distribution Channel']= label_encoder3.fit_transform(df['Distribution Channel'])\n",
    "\n",
    "label_encoder4 = preprocessing.LabelEncoder()\n",
    "df['Product Name']= label_encoder4.fit_transform(df['Product Name'])\n",
    "\n",
    "label_encoder5 = preprocessing.LabelEncoder()\n",
    "df['Claim']= label_encoder5.fit_transform(df['Claim'])\n",
    "\n",
    "\n",
    "label_encoder6 = preprocessing.LabelEncoder()\n",
    "df['Destination']= label_encoder6.fit_transform(df['Destination'])"
   ]
  },
  {
   "cell_type": "code",
   "execution_count": 36,
   "metadata": {},
   "outputs": [
    {
     "data": {
      "text/html": [
       "<div>\n",
       "<style scoped>\n",
       "    .dataframe tbody tr th:only-of-type {\n",
       "        vertical-align: middle;\n",
       "    }\n",
       "\n",
       "    .dataframe tbody tr th {\n",
       "        vertical-align: top;\n",
       "    }\n",
       "\n",
       "    .dataframe thead th {\n",
       "        text-align: right;\n",
       "    }\n",
       "</style>\n",
       "<table border=\"1\" class=\"dataframe\">\n",
       "  <thead>\n",
       "    <tr style=\"text-align: right;\">\n",
       "      <th></th>\n",
       "      <th>Agency</th>\n",
       "      <th>Agency Type</th>\n",
       "      <th>Distribution Channel</th>\n",
       "      <th>Product Name</th>\n",
       "      <th>Duration</th>\n",
       "      <th>Destination</th>\n",
       "      <th>Net Sales</th>\n",
       "      <th>Commision (in value)</th>\n",
       "      <th>Age</th>\n",
       "      <th>Claim</th>\n",
       "    </tr>\n",
       "  </thead>\n",
       "  <tbody>\n",
       "    <tr>\n",
       "      <th>0</th>\n",
       "      <td>2</td>\n",
       "      <td>0</td>\n",
       "      <td>1</td>\n",
       "      <td>4</td>\n",
       "      <td>365.0</td>\n",
       "      <td>110</td>\n",
       "      <td>216.0</td>\n",
       "      <td>54.00</td>\n",
       "      <td>57</td>\n",
       "      <td>0</td>\n",
       "    </tr>\n",
       "    <tr>\n",
       "      <th>1</th>\n",
       "      <td>7</td>\n",
       "      <td>1</td>\n",
       "      <td>1</td>\n",
       "      <td>10</td>\n",
       "      <td>4.0</td>\n",
       "      <td>74</td>\n",
       "      <td>10.0</td>\n",
       "      <td>0.00</td>\n",
       "      <td>33</td>\n",
       "      <td>0</td>\n",
       "    </tr>\n",
       "    <tr>\n",
       "      <th>2</th>\n",
       "      <td>9</td>\n",
       "      <td>0</td>\n",
       "      <td>1</td>\n",
       "      <td>8</td>\n",
       "      <td>19.0</td>\n",
       "      <td>52</td>\n",
       "      <td>22.0</td>\n",
       "      <td>7.70</td>\n",
       "      <td>26</td>\n",
       "      <td>0</td>\n",
       "    </tr>\n",
       "    <tr>\n",
       "      <th>3</th>\n",
       "      <td>7</td>\n",
       "      <td>1</td>\n",
       "      <td>1</td>\n",
       "      <td>1</td>\n",
       "      <td>20.0</td>\n",
       "      <td>130</td>\n",
       "      <td>112.0</td>\n",
       "      <td>0.00</td>\n",
       "      <td>59</td>\n",
       "      <td>0</td>\n",
       "    </tr>\n",
       "    <tr>\n",
       "      <th>4</th>\n",
       "      <td>2</td>\n",
       "      <td>0</td>\n",
       "      <td>1</td>\n",
       "      <td>9</td>\n",
       "      <td>8.0</td>\n",
       "      <td>110</td>\n",
       "      <td>16.0</td>\n",
       "      <td>4.00</td>\n",
       "      <td>28</td>\n",
       "      <td>0</td>\n",
       "    </tr>\n",
       "    <tr>\n",
       "      <th>...</th>\n",
       "      <td>...</td>\n",
       "      <td>...</td>\n",
       "      <td>...</td>\n",
       "      <td>...</td>\n",
       "      <td>...</td>\n",
       "      <td>...</td>\n",
       "      <td>...</td>\n",
       "      <td>...</td>\n",
       "      <td>...</td>\n",
       "      <td>...</td>\n",
       "    </tr>\n",
       "    <tr>\n",
       "      <th>44323</th>\n",
       "      <td>7</td>\n",
       "      <td>1</td>\n",
       "      <td>1</td>\n",
       "      <td>1</td>\n",
       "      <td>14.0</td>\n",
       "      <td>23</td>\n",
       "      <td>30.0</td>\n",
       "      <td>0.00</td>\n",
       "      <td>36</td>\n",
       "      <td>1</td>\n",
       "    </tr>\n",
       "    <tr>\n",
       "      <th>44324</th>\n",
       "      <td>6</td>\n",
       "      <td>1</td>\n",
       "      <td>1</td>\n",
       "      <td>16</td>\n",
       "      <td>17.0</td>\n",
       "      <td>3</td>\n",
       "      <td>79.2</td>\n",
       "      <td>47.52</td>\n",
       "      <td>47</td>\n",
       "      <td>0</td>\n",
       "    </tr>\n",
       "    <tr>\n",
       "      <th>44325</th>\n",
       "      <td>14</td>\n",
       "      <td>1</td>\n",
       "      <td>0</td>\n",
       "      <td>23</td>\n",
       "      <td>64.0</td>\n",
       "      <td>120</td>\n",
       "      <td>30.0</td>\n",
       "      <td>10.50</td>\n",
       "      <td>50</td>\n",
       "      <td>0</td>\n",
       "    </tr>\n",
       "    <tr>\n",
       "      <th>44326</th>\n",
       "      <td>7</td>\n",
       "      <td>1</td>\n",
       "      <td>1</td>\n",
       "      <td>1</td>\n",
       "      <td>51.0</td>\n",
       "      <td>23</td>\n",
       "      <td>36.0</td>\n",
       "      <td>0.00</td>\n",
       "      <td>36</td>\n",
       "      <td>0</td>\n",
       "    </tr>\n",
       "    <tr>\n",
       "      <th>44327</th>\n",
       "      <td>6</td>\n",
       "      <td>1</td>\n",
       "      <td>1</td>\n",
       "      <td>16</td>\n",
       "      <td>172.0</td>\n",
       "      <td>110</td>\n",
       "      <td>0.0</td>\n",
       "      <td>17.82</td>\n",
       "      <td>31</td>\n",
       "      <td>0</td>\n",
       "    </tr>\n",
       "  </tbody>\n",
       "</table>\n",
       "<p>39156 rows × 10 columns</p>\n",
       "</div>"
      ],
      "text/plain": [
       "       Agency  Agency Type  Distribution Channel  Product Name  Duration  \\\n",
       "0           2            0                     1             4     365.0   \n",
       "1           7            1                     1            10       4.0   \n",
       "2           9            0                     1             8      19.0   \n",
       "3           7            1                     1             1      20.0   \n",
       "4           2            0                     1             9       8.0   \n",
       "...       ...          ...                   ...           ...       ...   \n",
       "44323       7            1                     1             1      14.0   \n",
       "44324       6            1                     1            16      17.0   \n",
       "44325      14            1                     0            23      64.0   \n",
       "44326       7            1                     1             1      51.0   \n",
       "44327       6            1                     1            16     172.0   \n",
       "\n",
       "       Destination  Net Sales  Commision (in value)  Age  Claim  \n",
       "0              110      216.0                 54.00   57      0  \n",
       "1               74       10.0                  0.00   33      0  \n",
       "2               52       22.0                  7.70   26      0  \n",
       "3              130      112.0                  0.00   59      0  \n",
       "4              110       16.0                  4.00   28      0  \n",
       "...            ...        ...                   ...  ...    ...  \n",
       "44323           23       30.0                  0.00   36      1  \n",
       "44324            3       79.2                 47.52   47      0  \n",
       "44325          120       30.0                 10.50   50      0  \n",
       "44326           23       36.0                  0.00   36      0  \n",
       "44327          110        0.0                 17.82   31      0  \n",
       "\n",
       "[39156 rows x 10 columns]"
      ]
     },
     "execution_count": 36,
     "metadata": {},
     "output_type": "execute_result"
    }
   ],
   "source": [
    "df"
   ]
  },
  {
   "cell_type": "code",
   "execution_count": 37,
   "metadata": {},
   "outputs": [],
   "source": [
    "column_names = [\"Agency\", \"Agency Type\", \"Distribution Channel\", \"Product Name\",\n",
    "                \"Duration\", \"Destination\", \"Net Sales\", \"Commision (in value)\", \"Age\", \"Claim\"]\n",
    "df = df.reindex(columns=column_names)\n"
   ]
  },
  {
   "cell_type": "code",
   "execution_count": 38,
   "metadata": {},
   "outputs": [],
   "source": [
    "y=df.iloc[:,[-1]]\n",
    "x=df.drop(y.columns,axis = 1)"
   ]
  },
  {
   "attachments": {},
   "cell_type": "markdown",
   "metadata": {},
   "source": [
    "Memberikan Treatment SMOTE untuk imbalance data"
   ]
  },
  {
   "cell_type": "code",
   "execution_count": 39,
   "metadata": {},
   "outputs": [],
   "source": [
    "from imblearn.over_sampling import SMOTE\n"
   ]
  },
  {
   "cell_type": "code",
   "execution_count": 40,
   "metadata": {},
   "outputs": [
    {
     "name": "stdout",
     "output_type": "stream",
     "text": [
      "Shape of X before SMOTE: (39156, 9)\n",
      "Shape of X after SMOTE: (76976, 9)\n",
      "\n",
      "Balance of positive and negative classes (%):\n"
     ]
    },
    {
     "data": {
      "text/plain": [
       "Claim\n",
       "0        50.0\n",
       "1        50.0\n",
       "dtype: float64"
      ]
     },
     "execution_count": 40,
     "metadata": {},
     "output_type": "execute_result"
    }
   ],
   "source": [
    "sm = SMOTE(random_state=42)\n",
    "x_sm, y_sm = sm.fit_resample(x, y)\n",
    "print(f'''Shape of X before SMOTE: {x.shape}\n",
    "Shape of X after SMOTE: {x_sm.shape}''')\n",
    "print('\\nBalance of positive and negative classes (%):')\n",
    "y_sm.value_counts(normalize=True) * 100\n"
   ]
  },
  {
   "cell_type": "code",
   "execution_count": 41,
   "metadata": {},
   "outputs": [],
   "source": [
    "from sklearn.preprocessing import MinMaxScaler\n",
    "\n"
   ]
  },
  {
   "attachments": {},
   "cell_type": "markdown",
   "metadata": {},
   "source": [
    "menggunakan minmax scaller untuk scalling data agar rentang dataset menjadi lebih kecil"
   ]
  },
  {
   "cell_type": "code",
   "execution_count": 42,
   "metadata": {},
   "outputs": [
    {
     "data": {
      "text/html": [
       "<div>\n",
       "<style scoped>\n",
       "    .dataframe tbody tr th:only-of-type {\n",
       "        vertical-align: middle;\n",
       "    }\n",
       "\n",
       "    .dataframe tbody tr th {\n",
       "        vertical-align: top;\n",
       "    }\n",
       "\n",
       "    .dataframe thead th {\n",
       "        text-align: right;\n",
       "    }\n",
       "</style>\n",
       "<table border=\"1\" class=\"dataframe\">\n",
       "  <thead>\n",
       "    <tr style=\"text-align: right;\">\n",
       "      <th></th>\n",
       "      <th>Agency</th>\n",
       "      <th>Agency Type</th>\n",
       "      <th>Distribution Channel</th>\n",
       "      <th>Product Name</th>\n",
       "      <th>Duration</th>\n",
       "      <th>Destination</th>\n",
       "      <th>Net Sales</th>\n",
       "      <th>Commision (in value)</th>\n",
       "      <th>Age</th>\n",
       "    </tr>\n",
       "  </thead>\n",
       "  <tbody>\n",
       "    <tr>\n",
       "      <th>0</th>\n",
       "      <td>0.133333</td>\n",
       "      <td>0.0</td>\n",
       "      <td>1.0</td>\n",
       "      <td>0.16</td>\n",
       "      <td>0.912281</td>\n",
       "      <td>0.802920</td>\n",
       "      <td>0.491221</td>\n",
       "      <td>0.190476</td>\n",
       "      <td>0.483051</td>\n",
       "    </tr>\n",
       "    <tr>\n",
       "      <th>1</th>\n",
       "      <td>0.466667</td>\n",
       "      <td>1.0</td>\n",
       "      <td>1.0</td>\n",
       "      <td>0.40</td>\n",
       "      <td>0.007519</td>\n",
       "      <td>0.540146</td>\n",
       "      <td>0.314775</td>\n",
       "      <td>0.000000</td>\n",
       "      <td>0.279661</td>\n",
       "    </tr>\n",
       "    <tr>\n",
       "      <th>2</th>\n",
       "      <td>0.600000</td>\n",
       "      <td>0.0</td>\n",
       "      <td>1.0</td>\n",
       "      <td>0.32</td>\n",
       "      <td>0.045113</td>\n",
       "      <td>0.379562</td>\n",
       "      <td>0.325054</td>\n",
       "      <td>0.027160</td>\n",
       "      <td>0.220339</td>\n",
       "    </tr>\n",
       "    <tr>\n",
       "      <th>3</th>\n",
       "      <td>0.466667</td>\n",
       "      <td>1.0</td>\n",
       "      <td>1.0</td>\n",
       "      <td>0.04</td>\n",
       "      <td>0.047619</td>\n",
       "      <td>0.948905</td>\n",
       "      <td>0.402141</td>\n",
       "      <td>0.000000</td>\n",
       "      <td>0.500000</td>\n",
       "    </tr>\n",
       "    <tr>\n",
       "      <th>4</th>\n",
       "      <td>0.133333</td>\n",
       "      <td>0.0</td>\n",
       "      <td>1.0</td>\n",
       "      <td>0.36</td>\n",
       "      <td>0.017544</td>\n",
       "      <td>0.802920</td>\n",
       "      <td>0.319914</td>\n",
       "      <td>0.014109</td>\n",
       "      <td>0.237288</td>\n",
       "    </tr>\n",
       "  </tbody>\n",
       "</table>\n",
       "</div>"
      ],
      "text/plain": [
       "     Agency  Agency Type  Distribution Channel  Product Name  Duration  \\\n",
       "0  0.133333          0.0                   1.0          0.16  0.912281   \n",
       "1  0.466667          1.0                   1.0          0.40  0.007519   \n",
       "2  0.600000          0.0                   1.0          0.32  0.045113   \n",
       "3  0.466667          1.0                   1.0          0.04  0.047619   \n",
       "4  0.133333          0.0                   1.0          0.36  0.017544   \n",
       "\n",
       "   Destination  Net Sales  Commision (in value)       Age  \n",
       "0     0.802920   0.491221              0.190476  0.483051  \n",
       "1     0.540146   0.314775              0.000000  0.279661  \n",
       "2     0.379562   0.325054              0.027160  0.220339  \n",
       "3     0.948905   0.402141              0.000000  0.500000  \n",
       "4     0.802920   0.319914              0.014109  0.237288  "
      ]
     },
     "execution_count": 42,
     "metadata": {},
     "output_type": "execute_result"
    }
   ],
   "source": [
    "X_new = pd.DataFrame()\n",
    "to_scale = x_sm.columns\n",
    "mms = MinMaxScaler()\n",
    "X_new[to_scale] = mms.fit_transform(x_sm[to_scale])\n",
    "X_new.head()"
   ]
  },
  {
   "attachments": {},
   "cell_type": "markdown",
   "metadata": {},
   "source": [
    "Splitting"
   ]
  },
  {
   "cell_type": "code",
   "execution_count": 43,
   "metadata": {},
   "outputs": [],
   "source": [
    "xtrain, xtest, ytrain, ytest = train_test_split(X_new, y_sm, test_size=0.25, random_state=42)\n"
   ]
  },
  {
   "attachments": {},
   "cell_type": "markdown",
   "metadata": {},
   "source": [
    "## Model Benchmarking\n",
    "\n",
    "Mencari model terbaik yang akan digunakan untuk prediksi. "
   ]
  },
  {
   "cell_type": "markdown",
   "metadata": {},
   "source": [
    "## Random Forest"
   ]
  },
  {
   "cell_type": "code",
   "execution_count": 44,
   "metadata": {},
   "outputs": [],
   "source": [
    "forest = RandomForestClassifier(random_state=42)\n",
    "forest.fit(xtrain, ytrain)\n",
    "pred = forest.predict(xtest)\n"
   ]
  },
  {
   "cell_type": "code",
   "execution_count": 45,
   "metadata": {},
   "outputs": [
    {
     "name": "stdout",
     "output_type": "stream",
     "text": [
      "Accuracy = 0.97\n",
      "Recall = 0.9801835627868168\n",
      "\n"
     ]
    }
   ],
   "source": [
    "print(f'Accuracy = {accuracy_score(ytest, pred):.2f}\\nRecall = {recall_score(ytest, pred)}\\n')\n",
    "\n"
   ]
  },
  {
   "cell_type": "code",
   "execution_count": 46,
   "metadata": {},
   "outputs": [
    {
     "data": {
      "text/plain": [
       "0.9734979581273118"
      ]
     },
     "execution_count": 46,
     "metadata": {},
     "output_type": "execute_result"
    }
   ],
   "source": [
    "f1_score(ytest, pred, average='macro')\n"
   ]
  },
  {
   "attachments": {},
   "cell_type": "markdown",
   "metadata": {},
   "source": [
    "## XGB CLASS"
   ]
  },
  {
   "cell_type": "code",
   "execution_count": 47,
   "metadata": {},
   "outputs": [],
   "source": [
    "xgb = XGBClassifier()\n",
    "xgb.fit(xtrain, ytrain)\n",
    "predxgb = xgb.predict(xtest)\n"
   ]
  },
  {
   "cell_type": "code",
   "execution_count": 48,
   "metadata": {},
   "outputs": [
    {
     "name": "stdout",
     "output_type": "stream",
     "text": [
      "Accuracy = 0.97\n",
      "Recall = 0.97\n",
      "\n"
     ]
    }
   ],
   "source": [
    "xgbp=print(f'Accuracy = {accuracy_score(ytest, predxgb):.2f}\\nRecall = {recall_score(ytest, predxgb):.2f}\\n')\n"
   ]
  },
  {
   "attachments": {},
   "cell_type": "markdown",
   "metadata": {},
   "source": [
    "## KNN"
   ]
  },
  {
   "cell_type": "code",
   "execution_count": 49,
   "metadata": {},
   "outputs": [],
   "source": [
    "knn = KNeighborsClassifier (n_neighbors=5)\n",
    "knn.fit(xtrain, ytrain)\n",
    "predknn = knn.predict(xtest)\n"
   ]
  },
  {
   "cell_type": "code",
   "execution_count": 51,
   "metadata": {},
   "outputs": [
    {
     "name": "stdout",
     "output_type": "stream",
     "text": [
      "Accuracy = 0.93\n",
      "Recall = 0.98\n",
      "\n"
     ]
    }
   ],
   "source": [
    "print(f'Accuracy = {accuracy_score(ytest, predknn):.2f}\\nRecall = {recall_score(ytest, predknn):.2f}\\n')"
   ]
  },
  {
   "attachments": {},
   "cell_type": "markdown",
   "metadata": {},
   "source": [
    "# TREE"
   ]
  },
  {
   "cell_type": "code",
   "execution_count": 52,
   "metadata": {},
   "outputs": [],
   "source": [
    "Tree = DecisionTreeClassifier(criterion='entropy', max_depth=5)\n",
    "Tree.fit(xtrain, ytrain)\n",
    "predtree = Tree.predict(xtest)\n"
   ]
  },
  {
   "cell_type": "code",
   "execution_count": 53,
   "metadata": {},
   "outputs": [
    {
     "name": "stdout",
     "output_type": "stream",
     "text": [
      "Accuracy = 0.79\n",
      "Recall = 0.71\n",
      "\n"
     ]
    }
   ],
   "source": [
    "print(f'Accuracy = {accuracy_score(ytest, predtree):.2f}\\nRecall = {recall_score(ytest, predtree):.2f}\\n')\n"
   ]
  },
  {
   "attachments": {},
   "cell_type": "markdown",
   "metadata": {},
   "source": [
    "## LogReg"
   ]
  },
  {
   "cell_type": "code",
   "execution_count": 54,
   "metadata": {},
   "outputs": [],
   "source": [
    "logreg = LogisticRegression(solver='liblinear')\n",
    "logreg.fit(xtrain, ytrain)\n",
    "predlogreg = logreg.predict(xtest)\n"
   ]
  },
  {
   "cell_type": "code",
   "execution_count": 55,
   "metadata": {},
   "outputs": [
    {
     "name": "stdout",
     "output_type": "stream",
     "text": [
      "Accuracy = 0.78\n",
      "Recall = 0.73\n",
      "\n"
     ]
    }
   ],
   "source": [
    "print(f'Accuracy = {accuracy_score(ytest, predlogreg):.2f}\\nRecall = {recall_score(ytest, predlogreg):.2f}\\n')\n"
   ]
  },
  {
   "attachments": {},
   "cell_type": "markdown",
   "metadata": {},
   "source": [
    "Dari Benchmark diatas yang sudah dicoba secara manual, dengan scoring Recall tertinggi didapatkan oleh model Random Forest. "
   ]
  },
  {
   "cell_type": "code",
   "execution_count": 57,
   "metadata": {},
   "outputs": [],
   "source": [
    "from jcopml.tuning import grid_search_params as gsp"
   ]
  },
  {
   "cell_type": "code",
   "execution_count": 58,
   "metadata": {},
   "outputs": [
    {
     "data": {
      "text/plain": [
       "{'algo__n_estimators': [100, 150, 200],\n",
       " 'algo__max_depth': [20, 50, 80],\n",
       " 'algo__max_features': [0.3, 0.6, 0.8],\n",
       " 'algo__min_samples_leaf': [1, 5, 10]}"
      ]
     },
     "execution_count": 58,
     "metadata": {},
     "output_type": "execute_result"
    }
   ],
   "source": [
    "gsp.rf_params"
   ]
  },
  {
   "cell_type": "code",
   "execution_count": 59,
   "metadata": {},
   "outputs": [],
   "source": [
    "params = {'n_estimators': [100, 150, 200],\n",
    "          'max_depth': [20, 50, 80],\n",
    "          'max_features': [0.3, 0.6, 0.8],\n",
    "          'min_samples_leaf': [1, 5, 10]}\n"
   ]
  },
  {
   "cell_type": "code",
   "execution_count": 60,
   "metadata": {},
   "outputs": [],
   "source": [
    "kf = KFold(n_splits=4)"
   ]
  },
  {
   "cell_type": "code",
   "execution_count": 61,
   "metadata": {},
   "outputs": [],
   "source": [
    "rf_rs = RandomizedSearchCV(forest,params,cv=kf,n_jobs=-1,verbose=1,scoring='recall',n_iter=300,random_state=42)"
   ]
  },
  {
   "cell_type": "code",
   "execution_count": 62,
   "metadata": {},
   "outputs": [
    {
     "name": "stdout",
     "output_type": "stream",
     "text": [
      "Fitting 4 folds for each of 81 candidates, totalling 324 fits\n"
     ]
    },
    {
     "data": {
      "text/plain": [
       "RandomizedSearchCV(cv=KFold(n_splits=4, random_state=None, shuffle=False),\n",
       "                   estimator=RandomForestClassifier(random_state=42),\n",
       "                   n_iter=300, n_jobs=-1,\n",
       "                   param_distributions={'max_depth': [20, 50, 80],\n",
       "                                        'max_features': [0.3, 0.6, 0.8],\n",
       "                                        'min_samples_leaf': [1, 5, 10],\n",
       "                                        'n_estimators': [100, 150, 200]},\n",
       "                   random_state=42, scoring='recall', verbose=1)"
      ]
     },
     "execution_count": 62,
     "metadata": {},
     "output_type": "execute_result"
    }
   ],
   "source": [
    "rf_rs.fit(xtrain,ytrain)"
   ]
  },
  {
   "cell_type": "code",
   "execution_count": 63,
   "metadata": {},
   "outputs": [
    {
     "name": "stdout",
     "output_type": "stream",
     "text": [
      "best tuning score : 0.9811498426723457\n",
      "best params : {'n_estimators': 200, 'min_samples_leaf': 1, 'max_features': 0.6, 'max_depth': 20}\n"
     ]
    }
   ],
   "source": [
    "print('best tuning score :',rf_rs.best_score_)\n",
    "print('best params :', rf_rs.best_params_)\n",
    "rf_tuned_1 = rf_rs.best_estimator_"
   ]
  },
  {
   "attachments": {},
   "cell_type": "markdown",
   "metadata": {},
   "source": [
    "Didapatkan parameter terbaik setelah dilakukan proses tuning, dengan nilai diatas"
   ]
  },
  {
   "cell_type": "code",
   "execution_count": 64,
   "metadata": {},
   "outputs": [],
   "source": [
    "forest_tuned = RandomForestClassifier(n_estimators=200,min_samples_leaf=1,max_features=0.6,max_depth=20)\n",
    "forest_tuned.fit(xtrain, ytrain)\n",
    "pred_after = forest_tuned.predict(xtest)"
   ]
  },
  {
   "cell_type": "code",
   "execution_count": 65,
   "metadata": {},
   "outputs": [
    {
     "name": "stdout",
     "output_type": "stream",
     "text": [
      "Recall_before = 0.9801835627868168\n",
      "\n",
      "Recall_after= 0.9843554443053817\n",
      "\n"
     ]
    }
   ],
   "source": [
    "print(f'Recall_before = {recall_score(ytest, pred)}\\n')\n",
    "print(f'Recall_after= {recall_score(ytest, pred_after)}\\n')"
   ]
  },
  {
   "attachments": {},
   "cell_type": "markdown",
   "metadata": {},
   "source": [
    "Terdapat kenaikan pada nilai Recall sebesar 0.0043 setelah dilakukan hyperparameter tuning pada model random forest."
   ]
  },
  {
   "cell_type": "code",
   "execution_count": 66,
   "metadata": {},
   "outputs": [
    {
     "data": {
      "text/plain": [
       "Text(70.72222222222221, 0.5, 'True Label')"
      ]
     },
     "execution_count": 66,
     "metadata": {},
     "output_type": "execute_result"
    },
    {
     "data": {
      "image/png": "[encoded data removed]",
      "text/plain": [
       "<Figure size 800x600 with 2 Axes>"
      ]
     },
     "metadata": {},
     "output_type": "display_data"
    }
   ],
   "source": [
    "cm = confusion_matrix(ytest, pred_after)\n",
    "plt.figure(figsize=(8, 6))\n",
    "plt.title('Confusion Matrix', size=16)\n",
    "sns.heatmap(cm, annot=True, fmt='.2f', cmap='Blues')\n",
    "plt.xlabel('Predicted Label')\n",
    "plt.ylabel('True Label')\n"
   ]
  },
  {
   "attachments": {},
   "cell_type": "markdown",
   "metadata": {},
   "source": [
    "## Kesimpulan\n",
    "* dari percobaan model diatas model terbaik yang digunakan untuk memprediksi claim adalah Random Forest dengan nilai akurasi sebesar 0.97, dan nilai recall yang telah di tuning sebesar 0.098433\n",
    "* Pada confusion matrix terdapat setidaknya 150 orang yang diprediksi tidak claim tetapi claim dalam hal ini merupakan kelas FALSE NEGATIVE yang dimana dapat merugikan, angka hasil prediksi ini berguna untuk memberikan perusahaan asuransi data siaga untuk mencegah claim yang tidak terduga dari pelanggan asuransi travel"
   ]
  },
  {
   "attachments": {},
   "cell_type": "markdown",
   "metadata": {},
   "source": [
    "# Saran\n",
    "**Untuk mengurangi nilai false negative dengan claim asuransi sebagai nilai positif, beberapa rekomendasi yang dapat dilakukan antara lain:**\n",
    "\n",
    "* Menggunakan model prediksi yang lebih baik dengan mengoptimalkan parameter, mengubah model yang digunakan, atau menggunakan teknik lain seperti ensemble learning atau deep learning untuk meningkatkan performa prediksi.\n",
    "\n",
    "* Melakukan peningkatan pada proses klaim dengan mempercepat waktu penyelesaian klaim, memberikan dukungan pelanggan yang lebih baik, dan membuat proses klaim lebih mudah dan transparan bagi pelanggan.\n",
    "\n",
    "* Melakukan pemilihan strategi marketing yang tepat agar lebih menarik bagi pelanggan yang berisiko rendah untuk mengajukan klaim. Hal ini akan membantu memperkecil kemungkinan terjadinya false negative"
   ]
  },
  {
   "cell_type": "code",
   "execution_count": 67,
   "metadata": {},
   "outputs": [],
   "source": [
    "import pickle as pickle"
   ]
  },
  {
   "cell_type": "code",
   "execution_count": 68,
   "metadata": {},
   "outputs": [],
   "source": [
    "with open('forest_tuned.pkl', 'wb') as file:\n",
    "    pickle.dump(forest_tuned,file)\n"
   ]
  }
 ],
 "metadata": {
  "kernelspec": {
   "display_name": "base",
   "language": "python",
   "name": "python3"
  },
  "language_info": {
   "codemirror_mode": {
    "name": "ipython",
    "version": 3
   },
   "file_extension": ".py",
   "mimetype": "text/x-python",
   "name": "python",
   "nbconvert_exporter": "python",
   "pygments_lexer": "ipython3",
   "version": "3.9.13"
  },
  "orig_nbformat": 4,
  "vscode": {
   "interpreter": {
    "hash": "7495355da1e98b8508511a5efc1b5b2231ea49aa527ce91044f1cfe53066ceeb"
   }
  }
 },
 "nbformat": 4,
 "nbformat_minor": 2
}
